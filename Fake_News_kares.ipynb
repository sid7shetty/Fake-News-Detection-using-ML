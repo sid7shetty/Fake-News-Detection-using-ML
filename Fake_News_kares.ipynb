{
  "nbformat": 4,
  "nbformat_minor": 0,
  "metadata": {
    "kernelspec": {
      "name": "python3",
      "display_name": "Python 3"
    },
    "language_info": {
      "codemirror_mode": {
        "name": "ipython",
        "version": 3
      },
      "file_extension": ".py",
      "mimetype": "text/x-python",
      "name": "python",
      "nbconvert_exporter": "python",
      "pygments_lexer": "ipython3",
      "version": "3.7.3"
    },
    "colab": {
      "name": "Fake_News_kares.ipynb",
      "provenance": [],
      "private_outputs": true
    }
  },
  "cells": [
    {
      "cell_type": "code",
      "metadata": {
        "_cell_guid": "b1076dfc-b9ad-4769-8c92-a6c4dae69d19",
        "_uuid": "8f2839f25d086af736a60e9eeb907d3b93b6e0e5",
        "id": "6ygrI9zTmyBZ",
        "colab_type": "code",
        "colab": {}
      },
      "source": [
        ""
      ],
      "execution_count": 0,
      "outputs": []
    },
    {
      "cell_type": "code",
      "metadata": {
        "_cell_guid": "79c7e3d0-c299-4dcb-8224-4455121ee9b0",
        "_uuid": "d629ff2d2480ee46fbb7e2d37f6b5fab8052498a",
        "id": "qB9OpweRmyBf",
        "colab_type": "code",
        "colab": {}
      },
      "source": [
        "import numpy as np\n",
        "import pandas as pd\n",
        "import seaborn as sns\n",
        "import matplotlib.pyplot as plt\n",
        "import nltk\n",
        "from sklearn.feature_extraction.text import CountVectorizer\n",
        "# from sklearn.feature_extraction.text import TfidfVectorizer\n",
        "from sklearn.preprocessing import LabelBinarizer\n",
        "from nltk.corpus import stopwords\n",
        "from nltk.stem.porter import PorterStemmer\n",
        "from wordcloud import WordCloud,STOPWORDS\n",
        "from nltk.stem import WordNetLemmatizer\n",
        "from nltk.tokenize import word_tokenize,sent_tokenize\n",
        "from bs4 import BeautifulSoup\n",
        "import re,string,unicodedata\n",
        "from nltk.tokenize.toktok import ToktokTokenizer\n",
        "from nltk.stem import PorterStemmer,WordNetLemmatizer\n",
        "# from sklearn.linear_model import LogisticRegression,SGDClassifier\n",
        "# from sklearn.naive_bayes import MultinomialNB\n",
        "from sklearn.svm import SVC\n",
        "from sklearn.metrics import classification_report,confusion_matrix,accuracy_score\n",
        "from sklearn.model_selection import train_test_split\n",
        "from string import punctuation\n",
        "from nltk import pos_tag\n",
        "from nltk.corpus import wordnet\n"
      ],
      "execution_count": 0,
      "outputs": []
    },
    {
      "cell_type": "code",
      "metadata": {
        "id": "76nzXW5bmyBj",
        "colab_type": "code",
        "colab": {}
      },
      "source": [
        "import keras\n",
        "from keras.models import Sequential\n",
        "from keras.layers import Dense\n",
        "import tensorflow as tf"
      ],
      "execution_count": 0,
      "outputs": []
    },
    {
      "cell_type": "code",
      "metadata": {
        "id": "YjBl0vWVoBNE",
        "colab_type": "code",
        "colab": {}
      },
      "source": [
        "  from google.colab import drive \n",
        "  drive.mount(\"/content/gdrive\")"
      ],
      "execution_count": 0,
      "outputs": []
    },
    {
      "cell_type": "code",
      "metadata": {
        "id": "irTGiiopoBT6",
        "colab_type": "code",
        "colab": {}
      },
      "source": [
        "!ls \"/content/gdrive/My Drive/Datasets\""
      ],
      "execution_count": 0,
      "outputs": []
    },
    {
      "cell_type": "code",
      "metadata": {
        "id": "HzvCOaRcmyBm",
        "colab_type": "code",
        "colab": {}
      },
      "source": [
        "true = pd.read_csv(\"/content/gdrive/My Drive/Datasets/True.csv\")\n",
        "false = pd.read_csv(\"/content/gdrive/My Drive/Datasets/Fake.csv\")"
      ],
      "execution_count": 0,
      "outputs": []
    },
    {
      "cell_type": "code",
      "metadata": {
        "id": "HHr9cCPRmyBr",
        "colab_type": "code",
        "colab": {}
      },
      "source": [
        "true.shape"
      ],
      "execution_count": 0,
      "outputs": []
    },
    {
      "cell_type": "code",
      "metadata": {
        "id": "bKrgquuKmyBw",
        "colab_type": "code",
        "colab": {}
      },
      "source": [
        "true.head()"
      ],
      "execution_count": 0,
      "outputs": []
    },
    {
      "cell_type": "code",
      "metadata": {
        "id": "nTMUvsgpmyB2",
        "colab_type": "code",
        "colab": {}
      },
      "source": [
        "true['category'] = 1\n",
        "false['category'] = 0"
      ],
      "execution_count": 0,
      "outputs": []
    },
    {
      "cell_type": "code",
      "metadata": {
        "id": "-TciCysqmyB6",
        "colab_type": "code",
        "colab": {}
      },
      "source": [
        "df = pd.concat([true,false]) #Merging the 2 datasets"
      ],
      "execution_count": 0,
      "outputs": []
    },
    {
      "cell_type": "code",
      "metadata": {
        "id": "1D0l4EeFmyB-",
        "colab_type": "code",
        "colab": {}
      },
      "source": [
        "df.head()"
      ],
      "execution_count": 0,
      "outputs": []
    },
    {
      "cell_type": "code",
      "metadata": {
        "id": "3Mv7CI4NmyCC",
        "colab_type": "code",
        "colab": {}
      },
      "source": [
        "df.isna().sum() # Checking for nan Values"
      ],
      "execution_count": 0,
      "outputs": []
    },
    {
      "cell_type": "code",
      "metadata": {
        "id": "D2rFTlbNmyCF",
        "colab_type": "code",
        "colab": {}
      },
      "source": [
        "df.title.count()"
      ],
      "execution_count": 0,
      "outputs": []
    },
    {
      "cell_type": "code",
      "metadata": {
        "id": "D3H7RG3jmyCK",
        "colab_type": "code",
        "colab": {}
      },
      "source": [
        "df.subject.value_counts()"
      ],
      "execution_count": 0,
      "outputs": []
    },
    {
      "cell_type": "code",
      "metadata": {
        "id": "O1HgICGopnS_",
        "colab_type": "code",
        "colab": {}
      },
      "source": [
        ""
      ],
      "execution_count": 0,
      "outputs": []
    },
    {
      "cell_type": "code",
      "metadata": {
        "id": "y2aXUeN2myCQ",
        "colab_type": "code",
        "colab": {}
      },
      "source": [
        "df['text'] = df['text'] + \" \" + df['title'] + \" \" + df['subject']\n",
        "del df['title']\n",
        "del df['subject']\n",
        "del df['date']"
      ],
      "execution_count": 0,
      "outputs": []
    },
    {
      "cell_type": "code",
      "metadata": {
        "id": "vi4Ac8CzRdjM",
        "colab_type": "code",
        "colab": {}
      },
      "source": [
        "df.shape\n"
      ],
      "execution_count": 0,
      "outputs": []
    },
    {
      "cell_type": "code",
      "metadata": {
        "id": "UJJ7sRptpoYN",
        "colab_type": "code",
        "colab": {}
      },
      "source": [
        "##for test purpose only\n",
        "# df=df[:10000]"
      ],
      "execution_count": 0,
      "outputs": []
    },
    {
      "cell_type": "code",
      "metadata": {
        "id": "m1cK1u8amyCV",
        "colab_type": "code",
        "colab": {}
      },
      "source": [
        "nltk.download('stopwords')\n",
        "stop = set(stopwords.words('english'))\n",
        "punctuation = list(string.punctuation)\n",
        "stop.update(punctuation)"
      ],
      "execution_count": 0,
      "outputs": []
    },
    {
      "cell_type": "code",
      "metadata": {
        "id": "SMAoxXxVmyCY",
        "colab_type": "code",
        "colab": {}
      },
      "source": [
        "stemmer = PorterStemmer()\n",
        "def stem_text(text):\n",
        "    final_text = []\n",
        "    for i in text.split():\n",
        "        if i.strip().lower() not in stop:\n",
        "            word = stemmer.stem(i.strip())\n",
        "            final_text.append(word)\n",
        "    return \" \".join(final_text)        "
      ],
      "execution_count": 0,
      "outputs": []
    },
    {
      "cell_type": "code",
      "metadata": {
        "id": "lGKUUfITmyCb",
        "colab_type": "code",
        "colab": {}
      },
      "source": [
        "df.text = df.text.apply(stem_text)"
      ],
      "execution_count": 0,
      "outputs": []
    },
    {
      "cell_type": "code",
      "metadata": {
        "id": "7kIsFhRumyCe",
        "colab_type": "code",
        "colab": {}
      },
      "source": [
        "plt.figure(figsize = (20,20))\n",
        "wc = WordCloud(max_words = 300 , width = 1600 , height = 800 , stopwords = STOPWORDS).generate(\" \".join(df.text))\n",
        "plt.imshow(wc , interpolation = 'bilinear')"
      ],
      "execution_count": 0,
      "outputs": []
    },
    {
      "cell_type": "code",
      "metadata": {
        "id": "Z5KQEjgtmyCh",
        "colab_type": "code",
        "colab": {}
      },
      "source": [
        "x_train,x_test,y_train,y_test = train_test_split(df.text,df.category)"
      ],
      "execution_count": 0,
      "outputs": []
    },
    {
      "cell_type": "code",
      "metadata": {
        "id": "DdzZDdNymyCl",
        "colab_type": "code",
        "colab": {}
      },
      "source": [
        "# cv=CountVectorizer(min_df=0,max_df=1,ngram_range=(1,2))\n",
        "cv=CountVectorizer()\n",
        "\n",
        "#transformed train reviews\n",
        "cv_train_reviews=cv.fit_transform(x_train)\n",
        "#transformed test reviews\n",
        "cv_test_reviews=cv.transform(x_test)\n",
        "\n",
        "print('BOW_cv_train:',cv_train_reviews.shape)\n",
        "print('BOW_cv_test:',cv_test_reviews.shape)"
      ],
      "execution_count": 0,
      "outputs": []
    },
    {
      "cell_type": "code",
      "metadata": {
        "id": "PXaQuXSIn_UE",
        "colab_type": "code",
        "colab": {}
      },
      "source": [
        ""
      ],
      "execution_count": 0,
      "outputs": []
    },
    {
      "cell_type": "code",
      "metadata": {
        "id": "SbKzOYWomyCp",
        "colab_type": "code",
        "colab": {}
      },
      "source": [
        "model = Sequential()\n",
        "model.add(Dense(units = 100 , activation = 'relu' , input_dim = cv_train_reviews.shape[1]))\n",
        "model.add(Dense(units = 50 , activation = 'relu'))\n",
        "model.add(Dense(units = 25 , activation = 'relu'))\n",
        "model.add(Dense(units = 10 , activation = 'relu'))\n",
        "model.add(Dense(units = 1 , activation = 'sigmoid'))"
      ],
      "execution_count": 0,
      "outputs": []
    },
    {
      "cell_type": "code",
      "metadata": {
        "id": "QbUml44rmyCs",
        "colab_type": "code",
        "colab": {}
      },
      "source": [
        "model.compile(optimizer = 'adam' , loss = 'binary_crossentropy' , metrics = ['accuracy'])"
      ],
      "execution_count": 0,
      "outputs": []
    },
    {
      "cell_type": "code",
      "metadata": {
        "id": "TgGGOY4pmyCv",
        "colab_type": "code",
        "colab": {}
      },
      "source": [
        "model.fit(cv_train_reviews[:],y_train[:] , epochs = 5)"
      ],
      "execution_count": 0,
      "outputs": []
    },
    {
      "cell_type": "code",
      "metadata": {
        "id": "xSZpEIgwmyCz",
        "colab_type": "code",
        "colab": {}
      },
      "source": [
        "pred = model.predict(cv_test_reviews)"
      ],
      "execution_count": 0,
      "outputs": []
    },
    {
      "cell_type": "code",
      "metadata": {
        "id": "Im7vapsN8w0p",
        "colab_type": "code",
        "colab": {}
      },
      "source": [
        "eg=[\"corona virus wiped the world \"]\n",
        "eg=cv.transform(eg)\n",
        "model.predict(eg)"
      ],
      "execution_count": 0,
      "outputs": []
    },
    {
      "cell_type": "code",
      "metadata": {
        "id": "H9fUXNnZmyC2",
        "colab_type": "code",
        "colab": {}
      },
      "source": [
        "for i in range(len(pred)):\n",
        "    if(pred[i] > 0.5):\n",
        "        pred[i] = 1\n",
        "    else:\n",
        "        pred[i] = 0"
      ],
      "execution_count": 0,
      "outputs": []
    },
    {
      "cell_type": "code",
      "metadata": {
        "id": "Bbdz7p5zmyC5",
        "colab_type": "code",
        "colab": {}
      },
      "source": [
        "accuracy_score(pred,y_test)"
      ],
      "execution_count": 0,
      "outputs": []
    },
    {
      "cell_type": "code",
      "metadata": {
        "id": "tKpsntvkmyC-",
        "colab_type": "code",
        "colab": {}
      },
      "source": [
        "cv_report = classification_report(y_test,pred,target_names = ['0','1'])\n",
        "print(cv_report)"
      ],
      "execution_count": 0,
      "outputs": []
    },
    {
      "cell_type": "code",
      "metadata": {
        "id": "IoFTRK4AmyDE",
        "colab_type": "code",
        "colab": {}
      },
      "source": [
        "cm_cv = confusion_matrix(y_test,pred)\n",
        "cm_cv"
      ],
      "execution_count": 0,
      "outputs": []
    },
    {
      "cell_type": "code",
      "metadata": {
        "id": "hp87TPUGmyDI",
        "colab_type": "code",
        "colab": {}
      },
      "source": [
        "cm_cv = pd.DataFrame(cm_cv, index=[0,1], columns=[0,1])\n",
        "cm_cv.index.name = 'Actual'\n",
        "cm_cv.columns.name = 'Predicted'"
      ],
      "execution_count": 0,
      "outputs": []
    },
    {
      "cell_type": "code",
      "metadata": {
        "id": "dL544G0bmyDL",
        "colab_type": "code",
        "colab": {}
      },
      "source": [
        "plt.figure(figsize = (10,10))\n",
        "sns.heatmap(cm_cv,cmap= \"Blues\",annot = True, fmt='')"
      ],
      "execution_count": 0,
      "outputs": []
    },
    {
      "cell_type": "code",
      "metadata": {
        "id": "Wvxyf4SxmyDO",
        "colab_type": "code",
        "colab": {}
      },
      "source": [
        "import pickle \n",
        "  \n",
        "# Save the trained model as a pickle string. \n",
        "saved_model = pickle.dumps(model) "
      ],
      "execution_count": 0,
      "outputs": []
    },
    {
      "cell_type": "code",
      "metadata": {
        "id": "ulcwmxxS4bcN",
        "colab_type": "code",
        "colab": {}
      },
      "source": [
        ""
      ],
      "execution_count": 0,
      "outputs": []
    }
  ]
}